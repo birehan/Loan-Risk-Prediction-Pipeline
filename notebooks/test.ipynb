{
 "cells": [
  {
   "cell_type": "code",
   "execution_count": 5,
   "metadata": {},
   "outputs": [
    {
     "name": "stdout",
     "output_type": "stream",
     "text": [
      "Prediction response: {'predictions': ['Withdrawn Application']}\n"
     ]
    }
   ],
   "source": [
    "import requests\n",
    "import json\n",
    "\n",
    "columns = [\n",
    "    \"anon_ssn\",\n",
    "    \"payFrequency\",\n",
    "    \"apr\",\n",
    "    \"originated\",\n",
    "    \"nPaidOff\",\n",
    "    \"loanAmount\",\n",
    "    \"leadType\",\n",
    "    \"leadCost\",\n",
    "    \"fpStatus\",\n",
    "    \"hasCF\",\n",
    "    \"clearfraudscore\",\n",
    "    \"thirtydaysago\",\n",
    "    \"totalnumberoffraudindicators\",\n",
    "    \"loan_age\",\n",
    "]\n",
    "\n",
    "values = [\n",
    "    \"dc3b9f161faae5553f778eca7fc6787f\",\n",
    "    \"B\",\n",
    "    590.0,\n",
    "    False,\n",
    "    0.0,\n",
    "    500.0,\n",
    "    \"bvMandatory\",\n",
    "    6,\n",
    "    \"NoAchAttempt\",\n",
    "    1,\n",
    "    0.0,\n",
    "    0.0,\n",
    "    0.0,\n",
    "    -1.0,\n",
    "]\n",
    "\n",
    "# Sample input data\n",
    "data = {\"dataframe_split\": {\"columns\": columns, \"data\": [values]}}\n",
    "\n",
    "\n",
    "headers = {\n",
    "    \"Content-Type\": \"application/json\",\n",
    "}\n",
    "\n",
    "# Send a request to the model's local endpoint\n",
    "#\n",
    "# base_url = \"https://loan-risk-predictor-1-0-1.onrender.com\"\n",
    "base_url = \"http://127.0.0.1:5000\"\n",
    "\n",
    "response = requests.post(url=f\"{base_url}/invocations\", headers=headers, json=data)\n",
    "# dataframe_split\n",
    "# dataframe_records\n",
    "\n",
    "# Print the prediction result\n",
    "print(\"Prediction response:\", response.json())"
   ]
  }
 ],
 "metadata": {
  "kernelspec": {
   "display_name": "moneylion",
   "language": "python",
   "name": "python3"
  },
  "language_info": {
   "codemirror_mode": {
    "name": "ipython",
    "version": 3
   },
   "file_extension": ".py",
   "mimetype": "text/x-python",
   "name": "python",
   "nbconvert_exporter": "python",
   "pygments_lexer": "ipython3",
   "version": "3.8.13"
  }
 },
 "nbformat": 4,
 "nbformat_minor": 2
}
