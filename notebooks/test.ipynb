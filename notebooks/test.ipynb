{
 "cells": [
  {
   "cell_type": "code",
   "execution_count": 43,
   "metadata": {},
   "outputs": [
    {
     "name": "stderr",
     "output_type": "stream",
     "text": [
      "2024-09-18 01:25:49,030 - INFO - Extracted data from CSV file: ../data/loan.csv\n",
      "2024-09-18 01:25:49,604 - INFO - Dropped rows with null values in column loanId. Before: (577682, 19), After: (577426, 19)\n",
      "2024-09-18 01:25:49,813 - INFO - Dropped rows with null values in column apr. Before: (577426, 19), After: (573760, 19)\n",
      "2024-09-18 01:25:50,026 - INFO - Dropped rows with null values in column loanAmount. Before: (573760, 19), After: (573731, 19)\n",
      "2024-09-18 01:25:50,250 - INFO - Dropped rows with null values in column payFrequency. Before: (573731, 19), After: (572512, 19)\n",
      "2024-09-18 01:25:50,497 - INFO - Dropped rows with null values in column loanStatus. Before: (572512, 19), After: (572377, 19)\n",
      "2024-09-18 01:25:50,498 - INFO - Final shape after dropping rows with null values in columns: ['loanId', 'apr', 'loanAmount', 'payFrequency', 'loanStatus']. Initial shape: (577682, 19), Final shape: (572377, 19)\n",
      "2024-09-18 01:25:50,576 - INFO - Replaced nan with NoAchAttempt in column: fpStatus\n",
      "2024-09-18 01:25:50,582 - INFO - Replaced nan with 0 in column: nPaidOff\n",
      "2024-09-18 01:25:50,701 - INFO - Handled missing values for column: state using strategy: most_frequent\n",
      "2024-09-18 01:25:50,868 - INFO - Dropped column: loanId\n",
      "2024-09-18 01:25:50,999 - INFO - Dropped column: applicationDate\n",
      "2024-09-18 01:25:51,116 - INFO - Dropped column: originatedDate\n",
      "2024-09-18 01:25:51,234 - INFO - Dropped column: clarityFraudId\n",
      "2024-09-18 01:25:51,329 - INFO - Dropped column: state\n",
      "2024-09-18 01:25:52,006 - INFO - Dropped duplicates based on columns all columns. Initial shape: (572377, 14), Final shape: (570966, 14)\n",
      "2024-09-18 01:25:52,317 - INFO - Data split into training and testing sets.\n"
     ]
    }
   ],
   "source": [
    "import os\n",
    "import sys\n",
    "import numpy as np\n",
    "\n",
    "sys.path.append(os.path.abspath(os.path.join('../')))\n",
    "\n",
    "\n",
    "from src.utils.data_extractor import DataExtractor\n",
    "from src.utils.eda_analyzer import EDAAnalyzer\n",
    "from src.utils.data_preprocessor import DataPreprocessor\n",
    "from src.utils.model_trainer import LightGBMAutoML\n",
    "\n",
    "\n",
    "loan_filepath = \"../data/loan.csv\"\n",
    "loan_df = DataExtractor.extract_csv(file_path=loan_filepath)\n",
    "\n",
    "\n",
    "pre_processor = DataPreprocessor(loan_df)\n",
    "replacements = [\n",
    "    {\n",
    "        'column': 'fpStatus',\n",
    "        'from': np.nan,\n",
    "        'to': 'NoAchAttempt'\n",
    "    },\n",
    "    {\n",
    "        'column': 'nPaidOff',\n",
    "        'from': np.nan,\n",
    "        'to': 0\n",
    "    }  \n",
    "    ]\n",
    "\n",
    "# Create a preprocessing pipeline\n",
    "X_train, X_test, y_train, y_test =  (\n",
    "    pre_processor\n",
    "    .drop_rows_with_nulls_in_columns(columns=['loanId', 'apr', 'loanAmount', 'payFrequency', 'loanStatus'])\n",
    "    .replace_values(replacements)\n",
    "    .handle_missing_values(strategy='most_frequent', columns=['state'])\n",
    " \n",
    "    .drop_columns([\"loanId\", 'applicationDate', 'originatedDate', 'clarityFraudId', 'state'])\n",
    "    .drop_duplicates()\n",
    "    .split_data(target_column=\"loanStatus\")\n",
    ")"
   ]
  },
  {
   "cell_type": "code",
   "execution_count": 108,
   "metadata": {},
   "outputs": [
    {
     "data": {
      "text/plain": [
       "anon_ssn                            category\n",
       "payFrequency                        category\n",
       "apr                                  float64\n",
       "originated                              bool\n",
       "nPaidOff                             float64\n",
       "approved                                bool\n",
       "isFunded                               int64\n",
       "loanAmount                           float64\n",
       "originallyScheduledPaymentAmount     float64\n",
       "leadType                            category\n",
       "leadCost                               int64\n",
       "fpStatus                            category\n",
       "hasCF                                  int64\n",
       "dtype: object"
      ]
     },
     "execution_count": 108,
     "metadata": {},
     "output_type": "execute_result"
    }
   ],
   "source": [
    "X_train.dtypes"
   ]
  },
  {
   "cell_type": "code",
   "execution_count": 124,
   "metadata": {},
   "outputs": [],
   "source": [
    "categorical_features = [col for col in X_train.columns if X_train[col].dtype == 'category']\n",
    "\n",
    "for col in categorical_features:\n",
    "    X_train[col] = X_train[col].astype('category')\n",
    "    X_test[col] = X_test[col].astype('category')\n",
    "    \n",
    "\n",
    "sample = X_test.head(1).to_dict(orient='records')[0]\n",
    "columns = list(sample.keys())\n",
    "values = list(sample.values())"
   ]
  },
  {
   "cell_type": "code",
   "execution_count": 126,
   "metadata": {},
   "outputs": [
    {
     "data": {
      "text/plain": [
       "{'anon_ssn': '562ce550f0b6dfb9372d44ec79e8c908',\n",
       " 'payFrequency': 'B',\n",
       " 'apr': 359.0,\n",
       " 'originated': False,\n",
       " 'nPaidOff': 0.0,\n",
       " 'approved': False,\n",
       " 'isFunded': 0,\n",
       " 'loanAmount': 500.0,\n",
       " 'originallyScheduledPaymentAmount': 1018.77,\n",
       " 'leadType': 'bvMandatory',\n",
       " 'leadCost': 3,\n",
       " 'fpStatus': 'NoAchAttempt',\n",
       " 'hasCF': 0}"
      ]
     },
     "execution_count": 126,
     "metadata": {},
     "output_type": "execute_result"
    }
   ],
   "source": [
    "sample"
   ]
  },
  {
   "cell_type": "code",
   "execution_count": 110,
   "metadata": {},
   "outputs": [
    {
     "data": {
      "text/plain": [
       "['anon_ssn', 'payFrequency', 'leadType', 'fpStatus']"
      ]
     },
     "execution_count": 110,
     "metadata": {},
     "output_type": "execute_result"
    }
   ],
   "source": [
    "categorical_features"
   ]
  },
  {
   "cell_type": "code",
   "execution_count": 125,
   "metadata": {},
   "outputs": [
    {
     "name": "stdout",
     "output_type": "stream",
     "text": [
      "{'dataframe_split': {'columns': ['anon_ssn', 'payFrequency', 'apr', 'originated', 'nPaidOff', 'approved', 'isFunded', 'loanAmount', 'originallyScheduledPaymentAmount', 'leadType', 'leadCost', 'fpStatus', 'hasCF'], 'data': [['562ce550f0b6dfb9372d44ec79e8c908', 'B', 359.0, False, 0.0, False, 0, 500.0, 1018.77, 'bvMandatory', 3, 'NoAchAttempt', 0]]}}\n",
      "Prediction response: {'predictions': ['Withdrawn Application']}\n"
     ]
    }
   ],
   "source": [
    "import requests\n",
    "import json\n",
    "\n",
    "\n",
    "sample = X_test.head(1).to_dict(orient='records')[0]\n",
    "columns = list(sample.keys())\n",
    "values = list(sample.values())\n",
    "\n",
    "# Sample input data\n",
    "data = {\n",
    "    \"dataframe_split\": {\n",
    "        \"columns\": columns,\n",
    "        \"data\": [values]\n",
    "    }\n",
    "    \n",
    "}\n",
    "\n",
    "headers = {\n",
    "    'Content-Type': 'application/json',\n",
    "}\n",
    "\n",
    "# Send a request to the model's local endpoint\n",
    "response = requests.post(\n",
    "    url=\"http://127.0.0.1:8001/invocations\",\n",
    "    headers=headers,\n",
    "    json=data\n",
    ")\n",
    "# dataframe_split\n",
    "# dataframe_records\n",
    "\n",
    "# Print the prediction result\n",
    "print(\"Prediction response:\", response.json())"
   ]
  },
  {
   "cell_type": "code",
   "execution_count": 28,
   "metadata": {},
   "outputs": [
    {
     "data": {
      "text/html": [
       "<style>#sk-container-id-5 {color: black;}#sk-container-id-5 pre{padding: 0;}#sk-container-id-5 div.sk-toggleable {background-color: white;}#sk-container-id-5 label.sk-toggleable__label {cursor: pointer;display: block;width: 100%;margin-bottom: 0;padding: 0.3em;box-sizing: border-box;text-align: center;}#sk-container-id-5 label.sk-toggleable__label-arrow:before {content: \"▸\";float: left;margin-right: 0.25em;color: #696969;}#sk-container-id-5 label.sk-toggleable__label-arrow:hover:before {color: black;}#sk-container-id-5 div.sk-estimator:hover label.sk-toggleable__label-arrow:before {color: black;}#sk-container-id-5 div.sk-toggleable__content {max-height: 0;max-width: 0;overflow: hidden;text-align: left;background-color: #f0f8ff;}#sk-container-id-5 div.sk-toggleable__content pre {margin: 0.2em;color: black;border-radius: 0.25em;background-color: #f0f8ff;}#sk-container-id-5 input.sk-toggleable__control:checked~div.sk-toggleable__content {max-height: 200px;max-width: 100%;overflow: auto;}#sk-container-id-5 input.sk-toggleable__control:checked~label.sk-toggleable__label-arrow:before {content: \"▾\";}#sk-container-id-5 div.sk-estimator input.sk-toggleable__control:checked~label.sk-toggleable__label {background-color: #d4ebff;}#sk-container-id-5 div.sk-label input.sk-toggleable__control:checked~label.sk-toggleable__label {background-color: #d4ebff;}#sk-container-id-5 input.sk-hidden--visually {border: 0;clip: rect(1px 1px 1px 1px);clip: rect(1px, 1px, 1px, 1px);height: 1px;margin: -1px;overflow: hidden;padding: 0;position: absolute;width: 1px;}#sk-container-id-5 div.sk-estimator {font-family: monospace;background-color: #f0f8ff;border: 1px dotted black;border-radius: 0.25em;box-sizing: border-box;margin-bottom: 0.5em;}#sk-container-id-5 div.sk-estimator:hover {background-color: #d4ebff;}#sk-container-id-5 div.sk-parallel-item::after {content: \"\";width: 100%;border-bottom: 1px solid gray;flex-grow: 1;}#sk-container-id-5 div.sk-label:hover label.sk-toggleable__label {background-color: #d4ebff;}#sk-container-id-5 div.sk-serial::before {content: \"\";position: absolute;border-left: 1px solid gray;box-sizing: border-box;top: 0;bottom: 0;left: 50%;z-index: 0;}#sk-container-id-5 div.sk-serial {display: flex;flex-direction: column;align-items: center;background-color: white;padding-right: 0.2em;padding-left: 0.2em;position: relative;}#sk-container-id-5 div.sk-item {position: relative;z-index: 1;}#sk-container-id-5 div.sk-parallel {display: flex;align-items: stretch;justify-content: center;background-color: white;position: relative;}#sk-container-id-5 div.sk-item::before, #sk-container-id-5 div.sk-parallel-item::before {content: \"\";position: absolute;border-left: 1px solid gray;box-sizing: border-box;top: 0;bottom: 0;left: 50%;z-index: -1;}#sk-container-id-5 div.sk-parallel-item {display: flex;flex-direction: column;z-index: 1;position: relative;background-color: white;}#sk-container-id-5 div.sk-parallel-item:first-child::after {align-self: flex-end;width: 50%;}#sk-container-id-5 div.sk-parallel-item:last-child::after {align-self: flex-start;width: 50%;}#sk-container-id-5 div.sk-parallel-item:only-child::after {width: 0;}#sk-container-id-5 div.sk-dashed-wrapped {border: 1px dashed gray;margin: 0 0.4em 0.5em 0.4em;box-sizing: border-box;padding-bottom: 0.4em;background-color: white;}#sk-container-id-5 div.sk-label label {font-family: monospace;font-weight: bold;display: inline-block;line-height: 1.2em;}#sk-container-id-5 div.sk-label-container {text-align: center;}#sk-container-id-5 div.sk-container {/* jupyter's `normalize.less` sets `[hidden] { display: none; }` but bootstrap.min.css set `[hidden] { display: none !important; }` so we also need the `!important` here to be able to override the default hidden behavior on the sphinx rendered scikit-learn.org. See: https://github.com/scikit-learn/scikit-learn/issues/21755 */display: inline-block !important;position: relative;}#sk-container-id-5 div.sk-text-repr-fallback {display: none;}</style><div id=\"sk-container-id-5\" class=\"sk-top-container\"><div class=\"sk-text-repr-fallback\"><pre>AutoML(append_log=False, auto_augment=True, custom_hp={},\n",
       "       cv_score_agg_func=None, early_stop=False, ensemble=False,\n",
       "       estimator_list=&#x27;auto&#x27;, eval_method=&#x27;auto&#x27;, fit_kwargs_by_estimator={},\n",
       "       force_cancel=False, free_mem_ratio=0, hpo_method=&#x27;auto&#x27;,\n",
       "       keep_search_state=False, learner_selector=&#x27;sample&#x27;, log_file_name=&#x27;&#x27;,\n",
       "       log_training_metric=False, log_type=&#x27;better&#x27;, max_iter=None,\n",
       "       mem_thres=4294967296, metric=&#x27;auto&#x27;, metric_constraints=[],\n",
       "       min_sample_size=10000, mlflow_logging=True, model_history=False,\n",
       "       n_concurrent_trials=1, n_jobs=-1, n_splits=5, pred_time_limit=inf,\n",
       "       preserve_checkpoint=True, retrain_full=True, ...)</pre><b>In a Jupyter environment, please rerun this cell to show the HTML representation or trust the notebook. <br />On GitHub, the HTML representation is unable to render, please try loading this page with nbviewer.org.</b></div><div class=\"sk-container\" hidden><div class=\"sk-item\"><div class=\"sk-estimator sk-toggleable\"><input class=\"sk-toggleable__control sk-hidden--visually\" id=\"sk-estimator-id-5\" type=\"checkbox\" checked><label for=\"sk-estimator-id-5\" class=\"sk-toggleable__label sk-toggleable__label-arrow\">AutoML</label><div class=\"sk-toggleable__content\"><pre>AutoML(append_log=False, auto_augment=True, custom_hp={},\n",
       "       cv_score_agg_func=None, early_stop=False, ensemble=False,\n",
       "       estimator_list=&#x27;auto&#x27;, eval_method=&#x27;auto&#x27;, fit_kwargs_by_estimator={},\n",
       "       force_cancel=False, free_mem_ratio=0, hpo_method=&#x27;auto&#x27;,\n",
       "       keep_search_state=False, learner_selector=&#x27;sample&#x27;, log_file_name=&#x27;&#x27;,\n",
       "       log_training_metric=False, log_type=&#x27;better&#x27;, max_iter=None,\n",
       "       mem_thres=4294967296, metric=&#x27;auto&#x27;, metric_constraints=[],\n",
       "       min_sample_size=10000, mlflow_logging=True, model_history=False,\n",
       "       n_concurrent_trials=1, n_jobs=-1, n_splits=5, pred_time_limit=inf,\n",
       "       preserve_checkpoint=True, retrain_full=True, ...)</pre></div></div></div></div></div>"
      ],
      "text/plain": [
       "AutoML(append_log=False, auto_augment=True, custom_hp={},\n",
       "       cv_score_agg_func=None, early_stop=False, ensemble=False,\n",
       "       estimator_list='auto', eval_method='auto', fit_kwargs_by_estimator={},\n",
       "       force_cancel=False, free_mem_ratio=0, hpo_method='auto',\n",
       "       keep_search_state=False, learner_selector='sample', log_file_name='',\n",
       "       log_training_metric=False, log_type='better', max_iter=None,\n",
       "       mem_thres=4294967296, metric='auto', metric_constraints=[],\n",
       "       min_sample_size=10000, mlflow_logging=True, model_history=False,\n",
       "       n_concurrent_trials=1, n_jobs=-1, n_splits=5, pred_time_limit=inf,\n",
       "       preserve_checkpoint=True, retrain_full=True, ...)"
      ]
     },
     "execution_count": 28,
     "metadata": {},
     "output_type": "execute_result"
    }
   ],
   "source": [
    "import mlflow.pyfunc\n",
    "\n",
    "model_uri = \"mlruns/0/cbc495a818554cf5b9381401491d928b/artifacts/model\"\n",
    "model = mlflow.pyfunc.load_model(model_uri).get_raw_model()\n",
    "model"
   ]
  },
  {
   "cell_type": "code",
   "execution_count": 29,
   "metadata": {},
   "outputs": [
    {
     "ename": "AttributeError",
     "evalue": "'AutoML' object has no attribute 'model_version'",
     "output_type": "error",
     "traceback": [
      "\u001b[0;31m---------------------------------------------------------------------------\u001b[0m",
      "\u001b[0;31mAttributeError\u001b[0m                            Traceback (most recent call last)",
      "Cell \u001b[0;32mIn[29], line 1\u001b[0m\n\u001b[0;32m----> 1\u001b[0m \u001b[43mmodel\u001b[49m\u001b[38;5;241;43m.\u001b[39;49m\u001b[43mmodel_version\u001b[49m\n",
      "\u001b[0;31mAttributeError\u001b[0m: 'AutoML' object has no attribute 'model_version'"
     ]
    }
   ],
   "source": [
    "model."
   ]
  },
  {
   "cell_type": "code",
   "execution_count": 23,
   "metadata": {},
   "outputs": [
    {
     "data": {
      "text/plain": [
       "'2.2.0'"
      ]
     },
     "execution_count": 23,
     "metadata": {},
     "output_type": "execute_result"
    }
   ],
   "source": [
    "model.__version__"
   ]
  },
  {
   "cell_type": "code",
   "execution_count": 9,
   "metadata": {},
   "outputs": [
    {
     "name": "stderr",
     "output_type": "stream",
     "text": [
      "Downloading artifacts:  86%|████████▌ | 6/7 [00:00<00:00, 721.79it/s] "
     ]
    },
    {
     "name": "stderr",
     "output_type": "stream",
     "text": [
      "Downloading artifacts: 100%|██████████| 7/7 [00:00<00:00, 309.93it/s]\n",
      "2024/09/18 17:17:36 INFO mlflow.models.flavor_backend_registry: Selected backend for flavor 'python_function'\n",
      "Downloading artifacts: 100%|██████████| 7/7 [00:00<00:00, 362.70it/s] \n",
      "2024/09/18 17:17:36 INFO mlflow.pyfunc.backend: Building docker image with name loan_predictor\n",
      "#0 building with \"desktop-linux\" instance using docker driver\n",
      "\n",
      "#1 [internal] load .dockerignore\n",
      "#1 transferring context: 2B done\n",
      "#1 DONE 0.0s\n",
      "\n",
      "#2 [internal] load build definition from Dockerfile\n",
      "#2 transferring dockerfile: 2.00kB done\n",
      "#2 DONE 0.0s\n",
      "\n",
      "#3 [internal] load metadata for docker.io/library/ubuntu:20.04\n",
      "#3 ERROR: failed to do request: Head \"https://registry-1.docker.io/v2/library/ubuntu/manifests/20.04\": dialing registry-1.docker.io:443 with direct connection: resolving host registry-1.docker.io: lookup registry-1.docker.io on 127.0.0.53:53: no such host\n",
      "------\n",
      " > [internal] load metadata for docker.io/library/ubuntu:20.04:\n",
      "------\n",
      "Dockerfile:2\n",
      "--------------------\n",
      "   1 |     # Build an image that can serve mlflow models.\n",
      "   2 | >>> FROM ubuntu:20.04\n",
      "   3 |     \n",
      "   4 |     RUN apt-get -y update && DEBIAN_FRONTEND=noninteractive TZ=Etc/UTC apt-get install -y --no-install-recommends wget curl nginx ca-certificates bzip2 build-essential cmake git-core\n",
      "--------------------\n",
      "ERROR: failed to solve: ubuntu:20.04: failed to do request: Head \"https://registry-1.docker.io/v2/library/ubuntu/manifests/20.04\": dialing registry-1.docker.io:443 with direct connection: resolving host registry-1.docker.io: lookup registry-1.docker.io on 127.0.0.53:53: no such host\n",
      "\n",
      "View build details: docker-desktop://dashboard/build/desktop-linux/desktop-linux/m4dxmesg67asj4mtyhuyhxbfv\n"
     ]
    },
    {
     "ename": "RuntimeError",
     "evalue": "Docker build failed.",
     "output_type": "error",
     "traceback": [
      "\u001b[0;31m---------------------------------------------------------------------------\u001b[0m",
      "\u001b[0;31mRuntimeError\u001b[0m                              Traceback (most recent call last)",
      "Cell \u001b[0;32mIn[9], line 5\u001b[0m\n\u001b[1;32m      1\u001b[0m \u001b[38;5;28;01mimport\u001b[39;00m \u001b[38;5;21;01mmlflow\u001b[39;00m\n\u001b[1;32m      2\u001b[0m \u001b[38;5;28;01mfrom\u001b[39;00m \u001b[38;5;21;01mmlflow\u001b[39;00m\u001b[38;5;21;01m.\u001b[39;00m\u001b[38;5;21;01mutils\u001b[39;00m \u001b[38;5;28;01mimport\u001b[39;00m env_manager \u001b[38;5;28;01mas\u001b[39;00m _EnvManager\n\u001b[0;32m----> 5\u001b[0m \u001b[43mmlflow\u001b[49m\u001b[38;5;241;43m.\u001b[39;49m\u001b[43mmodels\u001b[49m\u001b[38;5;241;43m.\u001b[39;49m\u001b[43mbuild_docker\u001b[49m\u001b[43m(\u001b[49m\n\u001b[1;32m      6\u001b[0m \u001b[43m    \u001b[49m\u001b[43mmodel_uri\u001b[49m\u001b[38;5;241;43m=\u001b[39;49m\u001b[38;5;124;43m\"\u001b[39;49m\u001b[38;5;124;43mruns:/ff624604f8eb44d59b1211e52f1fe564/model\u001b[39;49m\u001b[38;5;124;43m\"\u001b[39;49m\u001b[43m,\u001b[49m\n\u001b[1;32m      7\u001b[0m \u001b[43m    \u001b[49m\u001b[43mname\u001b[49m\u001b[38;5;241;43m=\u001b[39;49m\u001b[38;5;124;43m\"\u001b[39;49m\u001b[38;5;124;43mloan_predictor\u001b[39;49m\u001b[38;5;124;43m\"\u001b[39;49m\u001b[43m,\u001b[49m\n\u001b[1;32m      8\u001b[0m \u001b[43m    \u001b[49m\u001b[43menable_mlserver\u001b[49m\u001b[38;5;241;43m=\u001b[39;49m\u001b[38;5;28;43;01mFalse\u001b[39;49;00m\u001b[43m,\u001b[49m\n\u001b[1;32m      9\u001b[0m \u001b[43m    \u001b[49m\u001b[43minstall_java\u001b[49m\u001b[38;5;241;43m=\u001b[39;49m\u001b[38;5;28;43;01mTrue\u001b[39;49;00m\u001b[43m,\u001b[49m\n\u001b[1;32m     10\u001b[0m \u001b[43m    \u001b[49m\u001b[43minstall_mlflow\u001b[49m\u001b[38;5;241;43m=\u001b[39;49m\u001b[38;5;28;43;01mTrue\u001b[39;49;00m\u001b[43m,\u001b[49m\n\u001b[1;32m     11\u001b[0m \u001b[43m    \u001b[49m\u001b[43menv_manager\u001b[49m\u001b[38;5;241;43m=\u001b[39;49m\u001b[43m_EnvManager\u001b[49m\u001b[38;5;241;43m.\u001b[39;49m\u001b[43mCONDA\u001b[49m\n\u001b[1;32m     12\u001b[0m \u001b[43m)\u001b[49m\n",
      "File \u001b[0;32m~/miniconda3/envs/moneylion/lib/python3.8/site-packages/mlflow/models/python_api.py:86\u001b[0m, in \u001b[0;36mbuild_docker\u001b[0;34m(model_uri, name, env_manager, mlflow_home, install_java, install_mlflow, enable_mlserver, base_image)\u001b[0m\n\u001b[1;32m     17\u001b[0m \u001b[38;5;28;01mdef\u001b[39;00m \u001b[38;5;21mbuild_docker\u001b[39m(\n\u001b[1;32m     18\u001b[0m     model_uri\u001b[38;5;241m=\u001b[39m\u001b[38;5;28;01mNone\u001b[39;00m,\n\u001b[1;32m     19\u001b[0m     name\u001b[38;5;241m=\u001b[39m\u001b[38;5;124m\"\u001b[39m\u001b[38;5;124mmlflow-pyfunc\u001b[39m\u001b[38;5;124m\"\u001b[39m,\n\u001b[0;32m   (...)\u001b[0m\n\u001b[1;32m     25\u001b[0m     base_image\u001b[38;5;241m=\u001b[39m\u001b[38;5;28;01mNone\u001b[39;00m,\n\u001b[1;32m     26\u001b[0m ):\n\u001b[1;32m     27\u001b[0m \u001b[38;5;250m    \u001b[39m\u001b[38;5;124;03m\"\"\"\u001b[39;00m\n\u001b[1;32m     28\u001b[0m \u001b[38;5;124;03m    Builds a Docker image whose default entrypoint serves an MLflow model at port 8080, using the\u001b[39;00m\n\u001b[1;32m     29\u001b[0m \u001b[38;5;124;03m    python_function flavor. The container serves the model referenced by ``model_uri``, if\u001b[39;00m\n\u001b[0;32m   (...)\u001b[0m\n\u001b[1;32m     84\u001b[0m \u001b[38;5;124;03m            addition, you must install Java and virtualenv to have the image work properly.\u001b[39;00m\n\u001b[1;32m     85\u001b[0m \u001b[38;5;124;03m    \"\"\"\u001b[39;00m\n\u001b[0;32m---> 86\u001b[0m     \u001b[43mget_flavor_backend\u001b[49m\u001b[43m(\u001b[49m\u001b[43mmodel_uri\u001b[49m\u001b[43m,\u001b[49m\u001b[43m \u001b[49m\u001b[43mdocker_build\u001b[49m\u001b[38;5;241;43m=\u001b[39;49m\u001b[38;5;28;43;01mTrue\u001b[39;49;00m\u001b[43m,\u001b[49m\u001b[43m \u001b[49m\u001b[43menv_manager\u001b[49m\u001b[38;5;241;43m=\u001b[39;49m\u001b[43menv_manager\u001b[49m\u001b[43m)\u001b[49m\u001b[38;5;241;43m.\u001b[39;49m\u001b[43mbuild_image\u001b[49m\u001b[43m(\u001b[49m\n\u001b[1;32m     87\u001b[0m \u001b[43m        \u001b[49m\u001b[43mmodel_uri\u001b[49m\u001b[43m,\u001b[49m\n\u001b[1;32m     88\u001b[0m \u001b[43m        \u001b[49m\u001b[43mname\u001b[49m\u001b[43m,\u001b[49m\n\u001b[1;32m     89\u001b[0m \u001b[43m        \u001b[49m\u001b[43mmlflow_home\u001b[49m\u001b[38;5;241;43m=\u001b[39;49m\u001b[43mmlflow_home\u001b[49m\u001b[43m,\u001b[49m\n\u001b[1;32m     90\u001b[0m \u001b[43m        \u001b[49m\u001b[43minstall_java\u001b[49m\u001b[38;5;241;43m=\u001b[39;49m\u001b[43minstall_java\u001b[49m\u001b[43m,\u001b[49m\n\u001b[1;32m     91\u001b[0m \u001b[43m        \u001b[49m\u001b[43minstall_mlflow\u001b[49m\u001b[38;5;241;43m=\u001b[39;49m\u001b[43minstall_mlflow\u001b[49m\u001b[43m,\u001b[49m\n\u001b[1;32m     92\u001b[0m \u001b[43m        \u001b[49m\u001b[43menable_mlserver\u001b[49m\u001b[38;5;241;43m=\u001b[39;49m\u001b[43menable_mlserver\u001b[49m\u001b[43m,\u001b[49m\n\u001b[1;32m     93\u001b[0m \u001b[43m        \u001b[49m\u001b[43mbase_image\u001b[49m\u001b[38;5;241;43m=\u001b[39;49m\u001b[43mbase_image\u001b[49m\u001b[43m,\u001b[49m\n\u001b[1;32m     94\u001b[0m \u001b[43m    \u001b[49m\u001b[43m)\u001b[49m\n",
      "File \u001b[0;32m~/miniconda3/envs/moneylion/lib/python3.8/site-packages/mlflow/pyfunc/backend.py:369\u001b[0m, in \u001b[0;36mPyFuncBackend.build_image\u001b[0;34m(self, model_uri, image_name, install_java, install_mlflow, mlflow_home, enable_mlserver, base_image)\u001b[0m\n\u001b[1;32m    358\u001b[0m \u001b[38;5;28mself\u001b[39m\u001b[38;5;241m.\u001b[39mgenerate_dockerfile(\n\u001b[1;32m    359\u001b[0m     model_uri\u001b[38;5;241m=\u001b[39mmodel_uri,\n\u001b[1;32m    360\u001b[0m     output_dir\u001b[38;5;241m=\u001b[39mcwd,\n\u001b[0;32m   (...)\u001b[0m\n\u001b[1;32m    365\u001b[0m     base_image\u001b[38;5;241m=\u001b[39mbase_image,\n\u001b[1;32m    366\u001b[0m )\n\u001b[1;32m    368\u001b[0m _logger\u001b[38;5;241m.\u001b[39minfo(\u001b[38;5;124m\"\u001b[39m\u001b[38;5;124mBuilding docker image with name \u001b[39m\u001b[38;5;132;01m%s\u001b[39;00m\u001b[38;5;124m\"\u001b[39m, image_name)\n\u001b[0;32m--> 369\u001b[0m \u001b[43mdocker_utils\u001b[49m\u001b[38;5;241;43m.\u001b[39;49m\u001b[43mbuild_image_from_context\u001b[49m\u001b[43m(\u001b[49m\u001b[43mcontext_dir\u001b[49m\u001b[38;5;241;43m=\u001b[39;49m\u001b[43mcwd\u001b[49m\u001b[43m,\u001b[49m\u001b[43m \u001b[49m\u001b[43mimage_name\u001b[49m\u001b[38;5;241;43m=\u001b[39;49m\u001b[43mimage_name\u001b[49m\u001b[43m)\u001b[49m\n",
      "File \u001b[0;32m~/miniconda3/envs/moneylion/lib/python3.8/site-packages/mlflow/models/docker_utils.py:230\u001b[0m, in \u001b[0;36mbuild_image_from_context\u001b[0;34m(context_dir, image_name)\u001b[0m\n\u001b[1;32m    228\u001b[0m proc \u001b[38;5;241m=\u001b[39m Popen(commands, cwd\u001b[38;5;241m=\u001b[39mcontext_dir)\n\u001b[1;32m    229\u001b[0m \u001b[38;5;28;01mif\u001b[39;00m proc\u001b[38;5;241m.\u001b[39mwait():\n\u001b[0;32m--> 230\u001b[0m     \u001b[38;5;28;01mraise\u001b[39;00m \u001b[38;5;167;01mRuntimeError\u001b[39;00m(\u001b[38;5;124m\"\u001b[39m\u001b[38;5;124mDocker build failed.\u001b[39m\u001b[38;5;124m\"\u001b[39m)\n",
      "\u001b[0;31mRuntimeError\u001b[0m: Docker build failed."
     ]
    }
   ],
   "source": [
    "import mlflow\n",
    "from mlflow.utils import env_manager as _EnvManager\n",
    "\n",
    "\n",
    "mlflow.models.build_docker(\n",
    "    model_uri=\"runs:/ff624604f8eb44d59b1211e52f1fe564/model\",\n",
    "    name=\"loan_predictor\",\n",
    "    enable_mlserver=False,\n",
    "    install_java=True,\n",
    "    install_mlflow=True,\n",
    "    env_manager=_EnvManager.CONDA\n",
    ")"
   ]
  },
  {
   "cell_type": "code",
   "execution_count": 122,
   "metadata": {},
   "outputs": [
    {
     "data": {
      "text/plain": [
       "array(['Withdrawn Application'], dtype=object)"
      ]
     },
     "execution_count": 122,
     "metadata": {},
     "output_type": "execute_result"
    }
   ],
   "source": [
    "mod.predict(X_test.head(1))\n",
    "# Print the mapping\n",
    "# print(f\"Class labels: {class_labels}\")\n",
    "\n",
    "# Now map the predicted value [2] back to the category\n",
    "# predicted_class = class_labels[response[0]]\n",
    "# print(f\"Predicted category: {predicted_class}\")"
   ]
  },
  {
   "cell_type": "code",
   "execution_count": 121,
   "metadata": {},
   "outputs": [
    {
     "data": {
      "text/plain": [
       "array(['CSR Voided New Loan', 'Charged Off Paid Off',\n",
       "       'Credit Return Void', 'Customer Voided New Loan',\n",
       "       'Customver Voided New Loan', 'External Collection',\n",
       "       'Internal Collection', 'New Loan', 'Paid Off Loan',\n",
       "       'Pending Application', 'Pending Application Fee',\n",
       "       'Pending Paid Off', 'Pending Rescind', 'Rejected', 'Returned Item',\n",
       "       'Settled Bankruptcy', 'Settlement Paid Off', 'Voided New Loan',\n",
       "       'Withdrawn Application'], dtype=object)"
      ]
     },
     "execution_count": 121,
     "metadata": {},
     "output_type": "execute_result"
    }
   ],
   "source": [
    "mod.classes_"
   ]
  },
  {
   "cell_type": "code",
   "execution_count": 111,
   "metadata": {},
   "outputs": [
    {
     "data": {
      "text/html": [
       "<style>#sk-container-id-4 {color: black;}#sk-container-id-4 pre{padding: 0;}#sk-container-id-4 div.sk-toggleable {background-color: white;}#sk-container-id-4 label.sk-toggleable__label {cursor: pointer;display: block;width: 100%;margin-bottom: 0;padding: 0.3em;box-sizing: border-box;text-align: center;}#sk-container-id-4 label.sk-toggleable__label-arrow:before {content: \"▸\";float: left;margin-right: 0.25em;color: #696969;}#sk-container-id-4 label.sk-toggleable__label-arrow:hover:before {color: black;}#sk-container-id-4 div.sk-estimator:hover label.sk-toggleable__label-arrow:before {color: black;}#sk-container-id-4 div.sk-toggleable__content {max-height: 0;max-width: 0;overflow: hidden;text-align: left;background-color: #f0f8ff;}#sk-container-id-4 div.sk-toggleable__content pre {margin: 0.2em;color: black;border-radius: 0.25em;background-color: #f0f8ff;}#sk-container-id-4 input.sk-toggleable__control:checked~div.sk-toggleable__content {max-height: 200px;max-width: 100%;overflow: auto;}#sk-container-id-4 input.sk-toggleable__control:checked~label.sk-toggleable__label-arrow:before {content: \"▾\";}#sk-container-id-4 div.sk-estimator input.sk-toggleable__control:checked~label.sk-toggleable__label {background-color: #d4ebff;}#sk-container-id-4 div.sk-label input.sk-toggleable__control:checked~label.sk-toggleable__label {background-color: #d4ebff;}#sk-container-id-4 input.sk-hidden--visually {border: 0;clip: rect(1px 1px 1px 1px);clip: rect(1px, 1px, 1px, 1px);height: 1px;margin: -1px;overflow: hidden;padding: 0;position: absolute;width: 1px;}#sk-container-id-4 div.sk-estimator {font-family: monospace;background-color: #f0f8ff;border: 1px dotted black;border-radius: 0.25em;box-sizing: border-box;margin-bottom: 0.5em;}#sk-container-id-4 div.sk-estimator:hover {background-color: #d4ebff;}#sk-container-id-4 div.sk-parallel-item::after {content: \"\";width: 100%;border-bottom: 1px solid gray;flex-grow: 1;}#sk-container-id-4 div.sk-label:hover label.sk-toggleable__label {background-color: #d4ebff;}#sk-container-id-4 div.sk-serial::before {content: \"\";position: absolute;border-left: 1px solid gray;box-sizing: border-box;top: 0;bottom: 0;left: 50%;z-index: 0;}#sk-container-id-4 div.sk-serial {display: flex;flex-direction: column;align-items: center;background-color: white;padding-right: 0.2em;padding-left: 0.2em;position: relative;}#sk-container-id-4 div.sk-item {position: relative;z-index: 1;}#sk-container-id-4 div.sk-parallel {display: flex;align-items: stretch;justify-content: center;background-color: white;position: relative;}#sk-container-id-4 div.sk-item::before, #sk-container-id-4 div.sk-parallel-item::before {content: \"\";position: absolute;border-left: 1px solid gray;box-sizing: border-box;top: 0;bottom: 0;left: 50%;z-index: -1;}#sk-container-id-4 div.sk-parallel-item {display: flex;flex-direction: column;z-index: 1;position: relative;background-color: white;}#sk-container-id-4 div.sk-parallel-item:first-child::after {align-self: flex-end;width: 50%;}#sk-container-id-4 div.sk-parallel-item:last-child::after {align-self: flex-start;width: 50%;}#sk-container-id-4 div.sk-parallel-item:only-child::after {width: 0;}#sk-container-id-4 div.sk-dashed-wrapped {border: 1px dashed gray;margin: 0 0.4em 0.5em 0.4em;box-sizing: border-box;padding-bottom: 0.4em;background-color: white;}#sk-container-id-4 div.sk-label label {font-family: monospace;font-weight: bold;display: inline-block;line-height: 1.2em;}#sk-container-id-4 div.sk-label-container {text-align: center;}#sk-container-id-4 div.sk-container {/* jupyter's `normalize.less` sets `[hidden] { display: none; }` but bootstrap.min.css set `[hidden] { display: none !important; }` so we also need the `!important` here to be able to override the default hidden behavior on the sphinx rendered scikit-learn.org. See: https://github.com/scikit-learn/scikit-learn/issues/21755 */display: inline-block !important;position: relative;}#sk-container-id-4 div.sk-text-repr-fallback {display: none;}</style><div id=\"sk-container-id-4\" class=\"sk-top-container\"><div class=\"sk-text-repr-fallback\"><pre>LGBMClassifier()</pre><b>In a Jupyter environment, please rerun this cell to show the HTML representation or trust the notebook. <br />On GitHub, the HTML representation is unable to render, please try loading this page with nbviewer.org.</b></div><div class=\"sk-container\" hidden><div class=\"sk-item\"><div class=\"sk-estimator sk-toggleable\"><input class=\"sk-toggleable__control sk-hidden--visually\" id=\"sk-estimator-id-4\" type=\"checkbox\" checked><label for=\"sk-estimator-id-4\" class=\"sk-toggleable__label sk-toggleable__label-arrow\">LGBMClassifier</label><div class=\"sk-toggleable__content\"><pre>LGBMClassifier()</pre></div></div></div></div></div>"
      ],
      "text/plain": [
       "LGBMClassifier()"
      ]
     },
     "execution_count": 111,
     "metadata": {},
     "output_type": "execute_result"
    }
   ],
   "source": [
    "import lightgbm as lgb\n",
    "clf = lgb.LGBMClassifier()\n",
    "clf.fit(X_train, y_train, categorical_feature=categorical_features)"
   ]
  },
  {
   "cell_type": "code",
   "execution_count": 112,
   "metadata": {},
   "outputs": [
    {
     "data": {
      "text/plain": [
       "['anon_ssn', 'payFrequency', 'leadType', 'fpStatus']"
      ]
     },
     "execution_count": 112,
     "metadata": {},
     "output_type": "execute_result"
    }
   ],
   "source": [
    "categorical_features\n"
   ]
  },
  {
   "cell_type": "code",
   "execution_count": 114,
   "metadata": {},
   "outputs": [
    {
     "data": {
      "text/plain": [
       "array(['CSR Voided New Loan', 'Charged Off Paid Off',\n",
       "       'Credit Return Void', 'Customer Voided New Loan',\n",
       "       'Customver Voided New Loan', 'External Collection',\n",
       "       'Internal Collection', 'New Loan', 'Paid Off Loan',\n",
       "       'Pending Application', 'Pending Application Fee',\n",
       "       'Pending Paid Off', 'Pending Rescind', 'Rejected', 'Returned Item',\n",
       "       'Settled Bankruptcy', 'Settlement Paid Off', 'Voided New Loan',\n",
       "       'Withdrawn Application'], dtype=object)"
      ]
     },
     "execution_count": 114,
     "metadata": {},
     "output_type": "execute_result"
    }
   ],
   "source": [
    "\n",
    "clf.classes_"
   ]
  }
 ],
 "metadata": {
  "kernelspec": {
   "display_name": "moneylion",
   "language": "python",
   "name": "python3"
  },
  "language_info": {
   "codemirror_mode": {
    "name": "ipython",
    "version": 3
   },
   "file_extension": ".py",
   "mimetype": "text/x-python",
   "name": "python",
   "nbconvert_exporter": "python",
   "pygments_lexer": "ipython3",
   "version": "3.8.13"
  }
 },
 "nbformat": 4,
 "nbformat_minor": 2
}
